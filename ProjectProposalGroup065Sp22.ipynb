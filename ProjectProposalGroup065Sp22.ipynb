{
 "cells": [
  {
   "cell_type": "markdown",
   "metadata": {
    "colab_type": "text",
    "id": "view-in-github"
   },
   "source": [
    "<a href=\"https://colab.research.google.com/github/COGS108/Group065Sp22/blob/master/ProjectProposalGroup065Sp22.ipynb\" target=\"_parent\"><img src=\"https://colab.research.google.com/assets/colab-badge.svg\" alt=\"Open In Colab\"/></a>"
   ]
  },
  {
   "cell_type": "markdown",
   "metadata": {
    "id": "SJEyDVoHSI72",
    "pycharm": {
     "name": "#%% md\n"
    }
   },
   "source": [
    "# COGS 108 - Final Project Proposal\n",
    "\n",
    "*updated May 6*"
   ]
  },
  {
   "cell_type": "markdown",
   "metadata": {
    "id": "9iJtynkFSI74",
    "pycharm": {
     "name": "#%% md\n"
    }
   },
   "source": [
    "# Names\n",
    "\n",
    "- Zihan Chen\n",
    "- Ning Ma\n",
    "- Kancheng Yin\n",
    "- Nan Jiang"
   ]
  },
  {
   "cell_type": "markdown",
   "metadata": {
    "id": "ezxq7Oq_SI76",
    "pycharm": {
     "name": "#%% md\n"
    }
   },
   "source": [
    "# Research Question"
   ]
  },
  {
   "cell_type": "markdown",
   "metadata": {
    "id": "810ja0stSI76",
    "pycharm": {
     "name": "#%% md\n"
    }
   },
   "source": [
    "**General question**: What makes an airplane crash more fatal? \n",
    "\n",
    "\n",
    "**Specific question**: \n",
    "1. Does the fatality rate associate with a specific time of the day and specific location of the world? \n",
    "2. Does the fatality rate associate with who's operataing the plane *(private vs. military personale)*?\n",
    "3. Is there any keywords are more likely to associate with high fatality accident *(e.g., \"birds\", \"air traffic\", \"operator errors\")*?\n",
    "\n",
    "\n",
    "\n"
   ]
  },
  {
   "cell_type": "markdown",
   "metadata": {
    "id": "v1ndzUb7SI78",
    "pycharm": {
     "name": "#%% md\n"
    }
   },
   "source": [
    "## Background and Prior Work"
   ]
  },
  {
   "cell_type": "markdown",
   "metadata": {
    "id": "Mt6vKHavSI78",
    "pycharm": {
     "name": "#%% md\n"
    }
   },
   "source": [
    "> ***Preface***:<br> \n",
    "> Our group was motivated by a recent fatal accident in our home country China, in which the crash of the China Eastern plane on Monday, March 21st, killed all 132 people aboard. Therefore, while grieving the loss of those lives, we want to take the COGS 108 project as an opportunity to explore the history of world aircraft crashes and mourn all losses involved in those accidents…\n",
    "\n",
    "Such tragedies are rarely reported worldwide nowadays, as the development of technology and the industry seems to improve the safety of air travel and indeed studies shows that the number of airplane crashes and fatalities decreased over the last century [^Miyamoto]. Certainly, the increase in technology and architecture of planes may reduce the risk of airplane crashes. \n",
    "\n",
    "Airplane crashes result from multiple factors that affect the aircraft and the reasons for airplane crashes vary from case to case, and even the reason for some still remains as mysteries. Commonly reported factors linked to airplane crashes include abnormal airplane conditions, pilot errors, and unfavorable natural conditions for flights such as air turbulence or extreme weather conditions.[^Oster]\n",
    "\n",
    "Compared to larger airplanes, smaller commuter planes tend to have a higher fatality rate, and off-airport location is one of the most critical factors for the fatality of pilots. [^Guohua] We believe that time and location factors matter for the severity of the crashes. \n",
    "\n",
    "\n",
    "\n",
    "\n",
    "---\n",
    "\n",
    "**Reference:**\n",
    "\n",
    "\n",
    "1. [[^Miyamoto]](https://dl.acm.org/doi/abs/10.1145/3418688.3418689) Taiyo Miyamoto, Neil Whitehead, Emanuel Santos. “Investigating Airplane Crash Data with Watson Analytics and Cognos Analytics” \n",
    "2. [[^Oster]](https://ageconsearch.umn.edu/record/207282/) Oster, Clinton V.; Strong, John S.; Zorn, Kurt, “Why Airplanes Crash: Causes of Accidents Worldwide” \n",
    "3. [[^Guohua]](https://www.jstor.org/stable/45015596\n",
    ") Guohua Li and Susan P. Baker, “Crashes of Commuter Aircraft and Air Taxis: What Determines Pilot Survival?”  \n",
    "\n"
   ]
  },
  {
   "cell_type": "markdown",
   "metadata": {
    "id": "JUg_xBBVSI79",
    "pycharm": {
     "name": "#%% md\n"
    }
   },
   "source": [
    "# Hypothesis\n"
   ]
  },
  {
   "cell_type": "markdown",
   "metadata": {
    "id": "8c7g-3CISI7_",
    "pycharm": {
     "name": "#%% md\n"
    }
   },
   "source": [
    "1. We hypothesize that the fatality rate of airplane crash is associated with the `time of the day`, `location`, `operator type`, in which flights in certain conditions are more likely to result in more severe accidents.\n",
    "2. There are some shared charateristics among those most fatal airplane accidents, such as *pilot error, air traffic controller error, design and manufacturer defects, maintenance failures, sabotage, or inclement weather.*\n",
    "  \n"
   ]
  },
  {
   "cell_type": "markdown",
   "metadata": {
    "id": "1o4TyUfFSI7_",
    "pycharm": {
     "name": "#%% md\n"
    }
   },
   "source": [
    "# Data"
   ]
  },
  {
   "cell_type": "markdown",
   "metadata": {
    "id": "Yn4gBCZkSI8A",
    "pycharm": {
     "name": "#%% md\n"
    }
   },
   "source": [
    "\n",
    "1 **Ideal characteristics dataset**\n",
    "- *Variable*: The variables should include factors we care about, which includes dependent variables like `fatality` and associated outcome variables like `time of the day`, `location`, `pilot type`, `accident report`, etc.\n",
    "- *Observations*: Observations should be comprehensive air accidents reports as much as possible\n",
    "- *Source of data*: We expect the the official accidents reports from relevant gobal associations or organizations. \n",
    "- *Data organization*: Data should be stored in semi-structured format with observations as rows and all the variables as columns. It is organized by one respondent representing the whole row of data. \n",
    "\n",
    "\n",
    "\n",
    "\n"
   ]
  },
  {
   "cell_type": "markdown",
   "metadata": {
    "id": "H3n2wfQSMhk7"
   },
   "source": [
    "2 **Source description**\n",
    "- We will use an open dataset extracted from data.world, a public data platfrom that provides open access to copious data sources. \n",
    "- The specific dateset [Air Crashes](https://data.world/data-society/airplane-crashes) contains full history of airplane crashes throughout the world, from 1908 - 2009. \n",
    "  - We also include a [supplentary dataset](https://www.kaggle.com/datasets/ramjasmaurya/aviation-accidents-history1919-april-2022) from kaggle which some most up-to-date information. \n",
    "\n"
   ]
  },
  {
   "cell_type": "markdown",
   "metadata": {
    "id": "brx9vkn8MkHZ"
   },
   "source": [
    "3 **Data description**\n",
    "- The raw data frames include 5269 oberservations and 13 variables and the following are some potential variable we might use:\n",
    "  - `Date`\n",
    "  - `Time`\n",
    "  - `Location`\n",
    "  - `Operator`: military, private\n",
    "  - `Type`: type of airliner\n",
    "  - `Aboard`: number of passenger aboard\n",
    "  - `Fatalities`: total number of death\n",
    "  - `Summary`: summary of the cause of the crash\n"
   ]
  },
  {
   "cell_type": "markdown",
   "metadata": {
    "id": "z9Y8If4--4_a"
   },
   "source": [
    "4 **Proposed Analysis**\n",
    "- Exploratory Data Analysis.\n",
    "- Single variable linear model.\n",
    "  - Heat map of crash location\n",
    "- General Linear model that incorporate multiple predictive variables.\n"
   ]
  },
  {
   "cell_type": "markdown",
   "metadata": {
    "id": "iMLdDl54SI8B",
    "pycharm": {
     "name": "#%% md\n"
    }
   },
   "source": [
    "# Ethics & Privacy"
   ]
  },
  {
   "cell_type": "markdown",
   "metadata": {
    "id": "W9TLzfwZSI8B",
    "pycharm": {
     "name": "#%% md\n"
    }
   },
   "source": [
    "\n",
    "1. *Research Question*:<br>we are motivated to investigate this question because the recent fatal accident happend in our hometown, which raised the awareness and interests at airplane crashes. We believe we asked a fair question from an unbiased standings.  \n",
    "2. *Implication*: <br>it is not likely that the results of our project will be co-opted for negarious purposes, but we are cautious about the potential unintended inference my by drawn from our results, which might contribute to stigmatize of certain factors, such as certain airlines and operators. Therefore, we are cautious that our study will only draw **correlational NOT causal conclusions**.   \n",
    "3. *Data*: <br>we are cautious that our data is not an official release from aircraft accident investigation organizations, nor a third-party independent source. But we have selectively validate some observations with other sources to confirm the credibility and accuracy of the dataframe. \n",
    "4. *Informed Consent*: <br> public access.  \n",
    "5. *Privacy*: <br>we are using de-identified dataset which does not contain information for individual citizen. Instead, it takes average statistics from census data. Therefore, our data is at low risk of having privacy issues. \n",
    "6. *Evaluation*: <br> major variables in our study are objective measures of existing facts. We think they follow the Goodhart's Law and do not add additional biases.  \n",
    "7. *Analysis*: <br> to ensure an unbiased analysis, we will include all observations and accept whatever results we get from the analysis. We will not intentionally modify and select specific data in order to get a significant result. Moreover, we are cautious of issues such as confonuds and colinearity. Although we can never make causaul inference from this dataset, we can run additional statistical tests to ensure the validity of the correlations. \n",
    "8. *Transparency & Appeal*: all data, analysis, codes for models will be visible to public, and we accept critiques from all sources. \n",
    "9. *Continuous Monitoring*: we are against using our results to make any causaul inferences between between aricraft fatality rate and personal attributes.\n",
    "\n",
    "\n",
    "> Overall, we are actively aware the potential risks of our analysis which might compromise individual privacy or confidentiality, as well as genrate data for purposes taht harm certain group of people. However, after thoroughly discussion and evaluation, we believe the current project is at minimal risk of violating the ethnic and privacy codes of data science. And we believe the result of our study is able to bring insights of world aircraft crashes.\n",
    "\n",
    "\n"
   ]
  },
  {
   "cell_type": "markdown",
   "metadata": {
    "id": "Q_SGTps8SI8C",
    "pycharm": {
     "name": "#%% md\n"
    }
   },
   "source": [
    "# Team Expectations "
   ]
  },
  {
   "cell_type": "markdown",
   "metadata": {
    "id": "E68bO3ArSI8D",
    "pycharm": {
     "name": "#%% md\n"
    }
   },
   "source": [
    "> - *Team Expectation 1*: We expect all team members to contribute equally to the project \n",
    "> - *Team Expectation 2*: We expect clear and honest communication between team members and useful comments on each other’s work. \n",
    "> - *Team Expecation 3*: We hope we will be considerate of each other, especially during weeks of high workload\n"
   ]
  },
  {
   "cell_type": "markdown",
   "metadata": {
    "id": "-OKC4np-SI8D",
    "pycharm": {
     "name": "#%% md\n"
    }
   },
   "source": [
    "# Project Timeline Proposal"
   ]
  },
  {
   "cell_type": "markdown",
   "metadata": {
    "id": "xFq0fJu3SI8E",
    "pycharm": {
     "name": "#%% md\n"
    }
   },
   "source": [
    "| Meeting Date  | Meeting Time| Completed Before Meeting  | Discuss at Meeting |\n",
    "|---|---|---|---|\n",
    "| 4/21  |  9 PM | Read & Think about COGS 108 expectations; brainstorm topics/questions  | Determine best form of communication; Discuss and decide on final project topic; discuss hypothesis; begin background research | \n",
    "| 4/27  |  3 PM |  Do background research on topic | Discuss ideal dataset(s) and ethics; draft project proposal | \n",
    "| 5/4  | 3 PM  | Edit, finalize, and submit proposal; Search for datasets  | Discuss Wrangling and possible analytical approaches; Assign group members to lead each specific part   |\n",
    "| 5/11  | 3 PM  | Import & Wrangle Data (TBD); EDA (TBD) | Review/Edit wrangling/EDA; Discuss Analysis Plan   |\n",
    "| 5/18  | 3 PM  | Finalize wrangling/EDA; Begin Analysis (TBD) | Discuss/edit Analysis; Complete project check-in |\n",
    "| 5/25  | 3 PM  | Complete analysis; Draft results/conclusion/discussion (TBD)| Discuss/edit full project |\n",
    "| 6/4  | all day  | NA | Turn in Final Project & Group Project Surveys |"
   ]
  }
 ],
 "metadata": {
  "colab": {
   "include_colab_link": true,
   "name": "ProjectProposalGroup065Sp22.ipynb",
   "provenance": []
  },
  "kernelspec": {
   "display_name": "Python 3 (ipykernel)",
   "language": "python",
   "name": "python3"
  },
  "language_info": {
   "codemirror_mode": {
    "name": "ipython",
    "version": 3
   },
   "file_extension": ".py",
   "mimetype": "text/x-python",
   "name": "python",
   "nbconvert_exporter": "python",
   "pygments_lexer": "ipython3",
   "version": "3.9.7"
  }
 },
 "nbformat": 4,
 "nbformat_minor": 1
}
